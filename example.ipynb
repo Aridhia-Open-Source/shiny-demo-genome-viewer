{
 "cells": [
  {
   "cell_type": "markdown",
   "id": "federal-closing",
   "metadata": {},
   "source": [
    "# Setup\n",
    "Import libraries and load data"
   ]
  },
  {
   "cell_type": "code",
   "execution_count": 49,
   "id": "fixed-telling",
   "metadata": {},
   "outputs": [],
   "source": [
    "import pandas as pd\n",
    "import ipywidgets as widgets\n",
    "import IPython as ipy"
   ]
  },
  {
   "cell_type": "markdown",
   "id": "mighty-shock",
   "metadata": {},
   "source": [
    "Load data"
   ]
  },
  {
   "cell_type": "code",
   "execution_count": 50,
   "id": "imported-terrorism",
   "metadata": {},
   "outputs": [],
   "source": [
    "donors = pd.read_csv(\"data/donors_clean.csv\")\n",
    "snps = pd.read_csv(\"data/snp_clean.csv\")\n",
    "clinvar = pd.read_csv(\"data/clinvar_variant_summary.csv\", sep = \"\\t\")\n",
    "genes = pd.read_csv(\"data/genes.csv\")\n",
    "icgc_top_genes = pd.read_csv(\"data/icgc_top_genes.csv\")"
   ]
  },
  {
   "cell_type": "markdown",
   "id": "hairy-indiana",
   "metadata": {},
   "source": [
    "# Data Summary\n"
   ]
  },
  {
   "cell_type": "code",
   "execution_count": 51,
   "id": "enormous-taste",
   "metadata": {},
   "outputs": [
    {
     "name": "stdout",
     "output_type": "stream",
     "text": [
      "       icgc_donor_id donor_sex icgc_specimen_id   specimen_type\n",
      "count            364       364              364             363\n",
      "unique            89         2              364               7\n",
      "top          DO32835      male          SP75993  primary tumour\n",
      "freq              12       187                1             193\n",
      "<bound method NDFrame.head of     icgc_donor_id donor_sex icgc_specimen_id           specimen_type\n",
      "0         DO32817      male          SP69519          primary tumour\n",
      "1         DO32817      male          SP69517        peripheral blood\n",
      "2         DO32817      male          SP77315          tumour (other)\n",
      "3         DO32819      male          SP69521        peripheral blood\n",
      "4         DO32819      male          SP77323          tumour (other)\n",
      "..            ...       ...              ...                     ...\n",
      "359       DO34905      male          SP77203          primary tumour\n",
      "360       DO34905      male          SP77211          primary tumour\n",
      "361       DO34961      male          SP77451  normal control (other)\n",
      "362       DO34961      male          SP77459          primary tumour\n",
      "363       DO34961      male          SP77443          primary tumour\n",
      "\n",
      "[364 rows x 4 columns]>\n"
     ]
    }
   ],
   "source": [
    "print(pd.DataFrame.describe(donors))\n",
    "print(donors.head)"
   ]
  },
  {
   "cell_type": "code",
   "execution_count": 52,
   "id": "inclusive-immunology",
   "metadata": {},
   "outputs": [
    {
     "data": {
      "text/plain": [
       "<bound method NDFrame.head of      hgnc_symbol  ensembl_gene_id\n",
       "0            CFH  ENSG00000000971\n",
       "1         SEMA3F  ENSG00000001617\n",
       "2           CFTR  ENSG00000001626\n",
       "3         ANKIB1  ENSG00000001629\n",
       "4            BAD  ENSG00000002330\n",
       "...          ...              ...\n",
       "7688     HMGB2P1  ENSG00000267736\n",
       "7689         NaN  ENSG00000267748\n",
       "7690         NaN  ENSG00000267765\n",
       "7691         NaN  ENSG00000267784\n",
       "7692      SMIM22  ENSG00000267795\n",
       "\n",
       "[7693 rows x 2 columns]>"
      ]
     },
     "execution_count": 52,
     "metadata": {},
     "output_type": "execute_result"
    }
   ],
   "source": [
    "genes.head"
   ]
  },
  {
   "cell_type": "code",
   "execution_count": 53,
   "id": "solar-cliff",
   "metadata": {},
   "outputs": [
    {
     "data": {
      "text/plain": [
       "<bound method NDFrame.head of   hgnc_symbol  ensembl_gene_id mutated_from_allele mutated_to_allele  \\\n",
       "0        KRAS  ENSG00000133703                   C                 T   \n",
       "1        KRAS  ENSG00000133703                   C                 A   \n",
       "2        KRAS  ENSG00000133703                   C                 G   \n",
       "3        TP53  ENSG00000141510                   C                 T   \n",
       "4        TP53  ENSG00000141510                   C                 T   \n",
       "5        TP53  ENSG00000141510                   T                 C   \n",
       "6        TP53  ENSG00000141510                   C                 A   \n",
       "7        TP53  ENSG00000141510                   T                 C   \n",
       "8        KRAS  ENSG00000133703                   T                 G   \n",
       "9        TP53  ENSG00000141510                   C                 T   \n",
       "\n",
       "              mutation_type         consequence_type  chromosome     start  \\\n",
       "0  single base substitution                 missense          12  25398284   \n",
       "1  single base substitution                 missense          12  25398284   \n",
       "2  single base substitution                 missense          12  25398285   \n",
       "3  single base substitution                 missense          17   7578406   \n",
       "4  single base substitution  non_coding_exon_variant          17   7578406   \n",
       "5  single base substitution           intron_variant          17   7578556   \n",
       "6  single base substitution                 missense          17   7578461   \n",
       "7  single base substitution                 missense          17   7578190   \n",
       "8  single base substitution                 missense          12  25380275   \n",
       "9  single base substitution  downstream_gene_variant          17   7578406   \n",
       "\n",
       "       stop  chromosome_start  chromosome_end  count  \n",
       "0  25398284          25398284        25398284    384  \n",
       "1  25398284          25398284        25398284    300  \n",
       "2  25398285          25398285        25398285    128  \n",
       "3   7578406           7578406         7578406     80  \n",
       "4   7578406           7578406         7578406     50  \n",
       "5   7578556           7578556         7578556     44  \n",
       "6   7578461           7578461         7578461     36  \n",
       "7   7578190           7578190         7578190     32  \n",
       "8  25380275          25380275        25380275     24  \n",
       "9   7578406           7578406         7578406     20  >"
      ]
     },
     "execution_count": 53,
     "metadata": {},
     "output_type": "execute_result"
    }
   ],
   "source": [
    "icgc_top_genes.head"
   ]
  },
  {
   "cell_type": "markdown",
   "id": "figured-routine",
   "metadata": {},
   "source": [
    "Find the most common genes in the snps table\n",
    "\n"
   ]
  },
  {
   "cell_type": "code",
   "execution_count": 54,
   "id": "major-killing",
   "metadata": {},
   "outputs": [
    {
     "data": {
      "text/plain": [
       "hgnc_symbol\n",
       "TP53         1000\n",
       "TTN-AS1       351\n",
       "KRAS          325\n",
       "CDKN2A        315\n",
       "TTN           247\n",
       "             ... \n",
       "RN7SL751P       1\n",
       "RN7SL731P       1\n",
       "RN7SL716P       1\n",
       "RN7SL650P       1\n",
       "A1BG            1\n",
       "Length: 6743, dtype: int64"
      ]
     },
     "execution_count": 54,
     "metadata": {},
     "output_type": "execute_result"
    }
   ],
   "source": [
    "snps_with_genes = pd.merge(snps, genes, how = 'left', left_on = 'gene_affected', right_on = 'ensembl_gene_id')\n",
    "snps_with_genes.groupby(by = 'hgnc_symbol').size().sort_values(ascending = False)"
   ]
  },
  {
   "cell_type": "markdown",
   "id": "particular-external",
   "metadata": {},
   "source": [
    "# Create widgets to find hits in the snps table"
   ]
  },
  {
   "cell_type": "code",
   "execution_count": 55,
   "id": "technical-stake",
   "metadata": {},
   "outputs": [
    {
     "data": {
      "application/vnd.jupyter.widget-view+json": {
       "model_id": "d8725c2ddd234bf2b2d0721efc9f9a0f",
       "version_major": 2,
       "version_minor": 0
      },
      "text/plain": [
       "Dropdown(description='Gene:', options=('KRAS', 'TP53', 'TTN-AS1', 'CDKN2A', 'TTN'), value='KRAS')"
      ]
     },
     "metadata": {},
     "output_type": "display_data"
    }
   ],
   "source": [
    "dropdown_gene = widgets.Dropdown(\n",
    "    options=['KRAS', 'TP53', 'TTN-AS1', 'CDKN2A', 'TTN'],\n",
    "    value='KRAS',\n",
    "    description='Gene:',\n",
    "    disabled=False,\n",
    ")\n",
    "output_gene = widgets.Output()\n",
    "\n",
    "def filter_by_gene(change):\n",
    "    output_gene.clear_output()\n",
    "    with output_gene:\n",
    "        filtered_data = snps_with_genes[snps_with_genes.hgnc_symbol == change.new]\n",
    "        display(str(len(filtered_data.index)) + ' Total variants')\n",
    "        display(str(filtered_data.icgc_donor_id.nunique()) + ' Unique Donors')\n",
    "        display(filtered_data)\n",
    "        \n",
    "dropdown_gene.observe(filter_by_gene, names = 'value')\n",
    "\n",
    "display(dropdown_gene)"
   ]
  },
  {
   "cell_type": "code",
   "execution_count": 56,
   "id": "former-contractor",
   "metadata": {},
   "outputs": [
    {
     "data": {
      "application/vnd.jupyter.widget-view+json": {
       "model_id": "01b6a01c4c804dac834e836d88946028",
       "version_major": 2,
       "version_minor": 0
      },
      "text/plain": [
       "Output()"
      ]
     },
     "metadata": {},
     "output_type": "display_data"
    }
   ],
   "source": [
    "display(output_gene)"
   ]
  },
  {
   "cell_type": "code",
   "execution_count": null,
   "id": "egyptian-spelling",
   "metadata": {},
   "outputs": [],
   "source": []
  }
 ],
 "metadata": {
  "kernelspec": {
   "display_name": "Python 3",
   "language": "python",
   "name": "python3"
  },
  "language_info": {
   "codemirror_mode": {
    "name": "ipython",
    "version": 3
   },
   "file_extension": ".py",
   "mimetype": "text/x-python",
   "name": "python",
   "nbconvert_exporter": "python",
   "pygments_lexer": "ipython3",
   "version": "3.6.8"
  }
 },
 "nbformat": 4,
 "nbformat_minor": 5
}
